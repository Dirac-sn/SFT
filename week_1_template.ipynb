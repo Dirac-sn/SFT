{
  "cells": [
    {
      "cell_type": "markdown",
      "metadata": {
        "id": "view-in-github",
        "colab_type": "text"
      },
      "source": [
        "<a href=\"https://colab.research.google.com/github/Dirac-sn/SFT/blob/main/week_1_template.ipynb\" target=\"_parent\"><img src=\"https://colab.research.google.com/assets/colab-badge.svg\" alt=\"Open In Colab\"/></a>"
      ]
    },
    {
      "cell_type": "markdown",
      "id": "09e8b92f-477a-4111-afab-6ef279e7fe66",
      "metadata": {
        "tags": [],
        "id": "09e8b92f-477a-4111-afab-6ef279e7fe66"
      },
      "source": [
        "# Introduction to Statistical Mechanics"
      ]
    },
    {
      "cell_type": "markdown",
      "id": "6d38bd26-ff6b-4f43-a19c-ba665cce277a",
      "metadata": {
        "id": "6d38bd26-ff6b-4f43-a19c-ba665cce277a"
      },
      "source": [
        "In this notebook we will explore a very system that is very similar to the one studied in lecture. It will also be a material (say, a table) consisting of $N$ independent and stationary particles. As before, we will enumerate them with a label $i=1,\\dots, N$. These will be however classical \"spin-1\" particles, instead of the spin-1/2 particles we studied. What this means is that the spin of the $i$-th particle can now take three values $s_i=-1,0,1$. Furthermore, the energy of a distribution of spins $s={s_i}$ is\n",
        "$$E(s)=D\\sum_{i=1}^N s_i^2,$$\n",
        "for some constant $D>0$ with units of energy."
      ]
    },
    {
      "cell_type": "markdown",
      "id": "8af1f076-4cfc-4df5-9884-81c434c09256",
      "metadata": {
        "tags": [],
        "id": "8af1f076-4cfc-4df5-9884-81c434c09256"
      },
      "source": [
        "## Developing some intuition"
      ]
    },
    {
      "cell_type": "markdown",
      "id": "ed85c67d-d563-44a1-9130-c74e2170fbac",
      "metadata": {
        "id": "ed85c67d-d563-44a1-9130-c74e2170fbac"
      },
      "source": [
        "Let us begin with some exercises intended to make sure that we understand the system and the energy formula above. Little to no computations are required for these."
      ]
    },
    {
      "cell_type": "markdown",
      "id": "8ac47c51-1ced-4ba8-a38e-512d3ba79e56",
      "metadata": {
        "id": "8ac47c51-1ced-4ba8-a38e-512d3ba79e56"
      },
      "source": [
        "1. What is the lowest energy this system can achieve? What is the distribution of spins for which this is the energy (i.e. the ground state)?"
      ]
    },
    {
      "cell_type": "markdown",
      "id": "ce4dd44b-ea27-40ad-8a27-8c6626ef9c89",
      "metadata": {
        "id": "ce4dd44b-ea27-40ad-8a27-8c6626ef9c89"
      },
      "source": []
    },
    {
      "cell_type": "markdown",
      "id": "b5ef8a97-f273-4e41-880f-ccbd76ac46c9",
      "metadata": {
        "id": "b5ef8a97-f273-4e41-880f-ccbd76ac46c9"
      },
      "source": [
        "2. What is the first excited energy of this system? Which distributions of spins have this energy?"
      ]
    },
    {
      "cell_type": "markdown",
      "id": "6de589e4-3e22-4338-8c5b-777f56be0a41",
      "metadata": {
        "id": "6de589e4-3e22-4338-8c5b-777f56be0a41"
      },
      "source": []
    },
    {
      "cell_type": "markdown",
      "id": "283f4887-0f63-4679-88fc-2b12ab0d6ff4",
      "metadata": {
        "id": "283f4887-0f63-4679-88fc-2b12ab0d6ff4"
      },
      "source": [
        "3. How many states (i.e. distributions of spins) does this system have?"
      ]
    },
    {
      "cell_type": "markdown",
      "id": "40e28648-b1f5-4b95-98e9-9ca2676a4d4a",
      "metadata": {
        "id": "40e28648-b1f5-4b95-98e9-9ca2676a4d4a"
      },
      "source": []
    },
    {
      "cell_type": "markdown",
      "id": "322efb4f-c54c-42f3-9740-98b2c8bbdf8f",
      "metadata": {
        "id": "322efb4f-c54c-42f3-9740-98b2c8bbdf8f"
      },
      "source": [
        "4. What are all the possible energies of this system? How many states have each energy (remember the \"n choose k\" function)?"
      ]
    },
    {
      "cell_type": "markdown",
      "id": "a1c7ba29-ac14-4090-8859-6617dd9aff1a",
      "metadata": {
        "id": "a1c7ba29-ac14-4090-8859-6617dd9aff1a"
      },
      "source": []
    },
    {
      "cell_type": "markdown",
      "id": "81e7fe9e-6f10-4b0f-9106-71235a42a885",
      "metadata": {
        "tags": [],
        "id": "81e7fe9e-6f10-4b0f-9106-71235a42a885"
      },
      "source": [
        "## Numerical exploration"
      ]
    },
    {
      "cell_type": "markdown",
      "id": "6dac5744-b96b-4369-95c1-307bf9eddfc3",
      "metadata": {
        "id": "6dac5744-b96b-4369-95c1-307bf9eddfc3"
      },
      "source": [
        "Let us now explore this system numerically."
      ]
    },
    {
      "cell_type": "markdown",
      "id": "ffd92cf5-56a5-4c14-843c-8528b325ac36",
      "metadata": {
        "id": "ffd92cf5-56a5-4c14-843c-8528b325ac36"
      },
      "source": [
        "5. Create a $3^N\\times N$ NumPy array which contains all possible states of this system. You can take $N=10$. Hint: take a look at the itertools package. Play with ChatGPT to see other algorithms to do this."
      ]
    },
    {
      "cell_type": "code",
      "execution_count": null,
      "id": "9ce27cb2-c62a-42ad-acc5-36b3b0d8ec0b",
      "metadata": {
        "tags": [],
        "id": "9ce27cb2-c62a-42ad-acc5-36b3b0d8ec0b"
      },
      "outputs": [],
      "source": []
    },
    {
      "cell_type": "markdown",
      "id": "ff598588-e6ed-436d-885a-384ab16f435e",
      "metadata": {
        "tags": [],
        "id": "ff598588-e6ed-436d-885a-384ab16f435e"
      },
      "source": [
        "6. Create a function that computes the energy of a state in units of $D$"
      ]
    },
    {
      "cell_type": "code",
      "execution_count": null,
      "id": "4c8265b7-0bf5-4520-80e9-73cdf4c2c6e1",
      "metadata": {
        "tags": [],
        "id": "4c8265b7-0bf5-4520-80e9-73cdf4c2c6e1"
      },
      "outputs": [],
      "source": []
    },
    {
      "cell_type": "markdown",
      "id": "31df834c-2994-42fc-abb8-5c6ba379744c",
      "metadata": {
        "tags": [],
        "id": "31df834c-2994-42fc-abb8-5c6ba379744c"
      },
      "source": [
        "7. Compute the free energy per unit temperature per unit particle $\\beta F/N$ for 100 temperatures evenly spaced from 0.01 to 10 (in units of $D$). Recall that this is defined as\n",
        "$$e^{-\\beta F}=Z=\\sum_{s}e^{-\\beta E(s)},$$\n",
        "where the sum is taken over all states $s$ of the system (which should already be in an array you created). Plot your result. Does it depend on $N$?"
      ]
    },
    {
      "cell_type": "code",
      "execution_count": null,
      "id": "a9452d2a-1ead-4609-8c4b-8918c829068d",
      "metadata": {
        "tags": [],
        "id": "a9452d2a-1ead-4609-8c4b-8918c829068d"
      },
      "outputs": [],
      "source": []
    },
    {
      "cell_type": "markdown",
      "id": "8504963e-1d33-49a0-a1a8-709fa8ff9c14",
      "metadata": {
        "id": "8504963e-1d33-49a0-a1a8-709fa8ff9c14"
      },
      "source": [
        "8. In a similar way, compute the average magnetization $m$ per unit particle for the temperatures considered above. Recall that this is given by $m=M/N$ where\n",
        "$$M=\\frac{1}{Z}\\sum_s e^{-\\beta E(s)}\\mathcal{M}(s),$$\n",
        "and\n",
        "$$\\mathcal{M}(s) = \\sum_{i=1}^N s_i.$$\n",
        "Do a plot of it and explain your result physically."
      ]
    },
    {
      "cell_type": "code",
      "execution_count": null,
      "id": "4c2cc726-5f60-4228-9ebf-bd38a5f4a285",
      "metadata": {
        "tags": [],
        "id": "4c2cc726-5f60-4228-9ebf-bd38a5f4a285"
      },
      "outputs": [],
      "source": []
    },
    {
      "cell_type": "markdown",
      "id": "d0bfb5ef-8f7d-4f7b-8b5d-27bb9f58be12",
      "metadata": {
        "id": "d0bfb5ef-8f7d-4f7b-8b5d-27bb9f58be12"
      },
      "source": []
    },
    {
      "cell_type": "markdown",
      "id": "3998f640-5070-4865-8d84-3df475cfec14",
      "metadata": {
        "id": "3998f640-5070-4865-8d84-3df475cfec14"
      },
      "source": [
        "9. Compute the average energy of this system as a function of temperature using\n",
        "$$\\langle E\\rangle=\\frac{1}{Z}\\sum_s e^{-\\beta E(s)}E(s).$$\n",
        "Plot the energy per particle and explain your results physically."
      ]
    },
    {
      "cell_type": "code",
      "execution_count": null,
      "id": "6c0c267d-9834-4af5-bfb1-ac277ff640e6",
      "metadata": {
        "tags": [],
        "id": "6c0c267d-9834-4af5-bfb1-ac277ff640e6"
      },
      "outputs": [],
      "source": []
    },
    {
      "cell_type": "markdown",
      "id": "1a7b270a-0d76-48ae-96c9-a27494fff441",
      "metadata": {
        "id": "1a7b270a-0d76-48ae-96c9-a27494fff441"
      },
      "source": []
    },
    {
      "cell_type": "markdown",
      "id": "95b2bcdc-4295-429a-8e13-b1376f0563cf",
      "metadata": {
        "id": "95b2bcdc-4295-429a-8e13-b1376f0563cf"
      },
      "source": [
        "10. Compute the average energy of this system implementing numerically the following derivative\n",
        "$$\\langle E\\rangle =\\frac{\\partial\\beta F}{\\partial \\beta}.$$\n",
        "Plot your results and verify whether they agree with the brute force method used above."
      ]
    },
    {
      "cell_type": "markdown",
      "id": "1a3efa6d-f78c-41ae-a433-180ca7de6896",
      "metadata": {
        "id": "1a3efa6d-f78c-41ae-a433-180ca7de6896"
      },
      "source": []
    },
    {
      "cell_type": "code",
      "execution_count": null,
      "id": "f66f0786-c405-4eb8-9639-085300cdec68",
      "metadata": {
        "tags": [],
        "id": "f66f0786-c405-4eb8-9639-085300cdec68"
      },
      "outputs": [],
      "source": []
    },
    {
      "cell_type": "markdown",
      "id": "0e6f55b4-2c49-4eaa-9094-f02051cf2583",
      "metadata": {
        "id": "0e6f55b4-2c49-4eaa-9094-f02051cf2583"
      },
      "source": [
        "## Analytical Exploration"
      ]
    },
    {
      "cell_type": "markdown",
      "id": "2138c055-71c0-476f-a90b-086fa9b16625",
      "metadata": {
        "id": "2138c055-71c0-476f-a90b-086fa9b16625"
      },
      "source": [
        "Now we will explore this model analytically."
      ]
    },
    {
      "cell_type": "markdown",
      "id": "f0ab1178-cc65-4999-98a2-85f65e53216e",
      "metadata": {
        "id": "f0ab1178-cc65-4999-98a2-85f65e53216e"
      },
      "source": [
        "11. Compute the partition function of this model explicitely for the cases $N=1$, $N=2$ and $N=3$. Do you see a factorization similar to that of the model studied in lecture? What is the result for general $N$?"
      ]
    },
    {
      "cell_type": "markdown",
      "id": "4499d93d-9081-4eea-9e2d-82f3ee134a5d",
      "metadata": {
        "id": "4499d93d-9081-4eea-9e2d-82f3ee134a5d"
      },
      "source": []
    },
    {
      "cell_type": "markdown",
      "id": "ae9c1137-18b8-4ccf-961b-627c7552a48d",
      "metadata": {
        "id": "ae9c1137-18b8-4ccf-961b-627c7552a48d"
      },
      "source": [
        "12. What is the free energy? Plot it as a function of the temperature and verify whether the analytical result agrees with the numerical study above."
      ]
    },
    {
      "cell_type": "markdown",
      "id": "f975ac40-e3f2-45a6-bbba-51090d38d8ca",
      "metadata": {
        "id": "f975ac40-e3f2-45a6-bbba-51090d38d8ca"
      },
      "source": []
    },
    {
      "cell_type": "code",
      "execution_count": null,
      "id": "4ec01bff-9c4f-4983-8992-6becf9fe0487",
      "metadata": {
        "tags": [],
        "id": "4ec01bff-9c4f-4983-8992-6becf9fe0487"
      },
      "outputs": [],
      "source": []
    },
    {
      "cell_type": "markdown",
      "id": "03b82f4e-2cd2-4207-8c9b-0b5e3256487a",
      "metadata": {
        "id": "03b82f4e-2cd2-4207-8c9b-0b5e3256487a"
      },
      "source": [
        "13. What is the magnetization? Does your analytical result agree with the numerical computations?"
      ]
    },
    {
      "cell_type": "markdown",
      "id": "a9029990-8fcd-46f8-ad9d-eb28fccc7731",
      "metadata": {
        "id": "a9029990-8fcd-46f8-ad9d-eb28fccc7731"
      },
      "source": []
    },
    {
      "cell_type": "markdown",
      "id": "c061b338-8c20-4542-bdcf-26086f07be04",
      "metadata": {
        "id": "c061b338-8c20-4542-bdcf-26086f07be04"
      },
      "source": [
        "14. What is the energy of this system as a function of temperature? What is it in the limit as $T\\rightarrow 0$? What is it in the limit as $T\\rightarrow \\infty$? Explain these limits physically. Plot the energy per particle."
      ]
    },
    {
      "cell_type": "markdown",
      "id": "4032f340-7e79-4c59-b824-319f7dfb0f28",
      "metadata": {
        "id": "4032f340-7e79-4c59-b824-319f7dfb0f28"
      },
      "source": []
    },
    {
      "cell_type": "code",
      "execution_count": null,
      "id": "fefbb4bd-648c-46c5-aaf7-22c1b56db1d9",
      "metadata": {
        "tags": [],
        "id": "fefbb4bd-648c-46c5-aaf7-22c1b56db1d9"
      },
      "outputs": [],
      "source": []
    },
    {
      "cell_type": "markdown",
      "id": "19ddcfa7-ff57-4eab-aa8d-0ca21e9115f4",
      "metadata": {
        "id": "19ddcfa7-ff57-4eab-aa8d-0ca21e9115f4"
      },
      "source": [
        "15. What is the entropy of this system as a function of temperature? What are the low and high temperature limits? Explain these physically and plot the entropy per particle."
      ]
    },
    {
      "cell_type": "markdown",
      "id": "f406f08b-9af4-4bbc-9d1a-c6e78b9feb21",
      "metadata": {
        "id": "f406f08b-9af4-4bbc-9d1a-c6e78b9feb21"
      },
      "source": []
    },
    {
      "cell_type": "code",
      "execution_count": null,
      "id": "68c986b6-9f53-4b09-8734-81f62f2691a9",
      "metadata": {
        "tags": [],
        "id": "68c986b6-9f53-4b09-8734-81f62f2691a9"
      },
      "outputs": [],
      "source": []
    },
    {
      "cell_type": "markdown",
      "id": "d55f77a9-e917-484b-9ff5-199d66ac0663",
      "metadata": {
        "id": "d55f77a9-e917-484b-9ff5-199d66ac0663"
      },
      "source": [
        "16. Challenge Problem: For which temperatures is the energy $E>\\frac{2}{3}ND$?"
      ]
    },
    {
      "cell_type": "markdown",
      "id": "cce088cc-5a7b-4f2b-9ffa-556fee8003ad",
      "metadata": {
        "id": "cce088cc-5a7b-4f2b-9ffa-556fee8003ad"
      },
      "source": []
    },
    {
      "cell_type": "code",
      "execution_count": null,
      "id": "27975300-b04c-4f35-9a4f-5bcc6ddebfc9",
      "metadata": {
        "tags": [],
        "id": "27975300-b04c-4f35-9a4f-5bcc6ddebfc9"
      },
      "outputs": [],
      "source": []
    },
    {
      "cell_type": "markdown",
      "source": [
        "## Report"
      ],
      "metadata": {
        "id": "0lo_UneZmtLA"
      },
      "id": "0lo_UneZmtLA"
    },
    {
      "cell_type": "markdown",
      "source": [
        "17. Describe your progress throughout the week. What have you learned? Which parts were challenging? What would you like to delve into further in the future?"
      ],
      "metadata": {
        "id": "PAcXqkp1djk0"
      },
      "id": "PAcXqkp1djk0"
    },
    {
      "cell_type": "markdown",
      "source": [],
      "metadata": {
        "id": "Y-dydslhesS1"
      },
      "id": "Y-dydslhesS1"
    }
  ],
  "metadata": {
    "kernelspec": {
      "display_name": "Python 3 (ipykernel)",
      "language": "python",
      "name": "python3"
    },
    "language_info": {
      "codemirror_mode": {
        "name": "ipython",
        "version": 3
      },
      "file_extension": ".py",
      "mimetype": "text/x-python",
      "name": "python",
      "nbconvert_exporter": "python",
      "pygments_lexer": "ipython3",
      "version": "3.10.6"
    },
    "colab": {
      "provenance": [],
      "include_colab_link": true
    }
  },
  "nbformat": 4,
  "nbformat_minor": 5
}