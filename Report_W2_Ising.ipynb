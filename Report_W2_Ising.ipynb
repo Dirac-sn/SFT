{
  "nbformat": 4,
  "nbformat_minor": 0,
  "metadata": {
    "colab": {
      "provenance": [],
      "include_colab_link": true
    },
    "kernelspec": {
      "name": "python3",
      "display_name": "Python 3"
    },
    "language_info": {
      "name": "python"
    }
  },
  "cells": [
    {
      "cell_type": "markdown",
      "metadata": {
        "id": "view-in-github",
        "colab_type": "text"
      },
      "source": [
        "<a href=\"https://colab.research.google.com/github/Dirac-sn/SFT/blob/main/Report_W2_Ising.ipynb\" target=\"_parent\"><img src=\"https://colab.research.google.com/assets/colab-badge.svg\" alt=\"Open In Colab\"/></a>"
      ]
    },
    {
      "cell_type": "markdown",
      "source": [
        "# Week 2: Lattice Statistical Theories and the Ising Model Report\n"
      ],
      "metadata": {
        "id": "hIWjvCPMnXYF"
      }
    },
    {
      "cell_type": "markdown",
      "source": [
        "## 1. Questions to Aid in Developing Intuition"
      ],
      "metadata": {
        "id": "5HGweGk8ngA_"
      }
    },
    {
      "cell_type": "markdown",
      "source": [
        "#### 1.1 Perturbation to High T Ising\n",
        "Given an infinite 2D Ising model at an infinite temperature, if I apply a small magnetic field throughout the whole sample in the positive spin direction, what will the expectation of the magnetic moment be?"
      ],
      "metadata": {
        "id": "mqfeGgzmnrpI"
      }
    },
    {
      "cell_type": "code",
      "source": [],
      "metadata": {
        "id": "8PzfTOnBnvI7"
      },
      "execution_count": null,
      "outputs": []
    },
    {
      "cell_type": "markdown",
      "source": [
        "#### 1.2 Symmetries of Various Models\n",
        "We discussed that the Ising model Hamiltonian has a $Z_2$ global symmetry, what are the symmetries of the following Hamiltonians? (you need not exhaust the list but try to provide as many as you can): ($<ij>$ means $i,j$ are nearest neighbours)<br>\n",
        "(a)<br> A 1D lattice with the degree of freedom $\\sigma_i\\in\\{1,0,-1\\}$ living on each site. The energy function (Hamiltonain) given by $$H=-J\\sum_{<ij>}\\sigma_i\\sigma_j+h\\sum_{i}\\sigma_i$$\n",
        "(b)<br> A 2D lattice with the degree of freedom $\\vec{x}_i\\in {S^1}$ a 2D unit vector living on each site. The energy function (Hamiltonian) given by\n",
        "$$H=-J\\sum_{<ij>}\\vec{x}_i\\cdot\\vec{x}_j$$\n",
        "(c)<br> A 1D lattice with the degree of freedom $\\sigma_i\\in\\{1,0,-1\\}$ living on each site. The energy function (Hamiltonain) given by $$H=-J\\sum_{i}\\sigma_{2i}\\sigma_{2i+2}-L\\sum_{i}\\sigma_{2i+1}\\sigma_{2i+3}$$"
      ],
      "metadata": {
        "id": "pOQMR4B7nwWH"
      }
    },
    {
      "cell_type": "code",
      "source": [],
      "metadata": {
        "id": "by_044xCn039"
      },
      "execution_count": null,
      "outputs": []
    },
    {
      "cell_type": "markdown",
      "source": [
        "#### 1.3 Size of State Space\n",
        "How many basis states are there in a Order 4 Potts model on a $X\\times Y\\times Z$ ($X,Y,Z$ Integers) Lattice?"
      ],
      "metadata": {
        "id": "H4CWOnfhn1yo"
      }
    },
    {
      "cell_type": "code",
      "source": [],
      "metadata": {
        "id": "lbWjNc7nn5RY"
      },
      "execution_count": null,
      "outputs": []
    },
    {
      "cell_type": "markdown",
      "source": [
        "#### 1.4  The 3 Point Correlator\n",
        "Recall that an example of an experiment that can detect the two point correlator $<\\sigma_i\\sigma_j>$ is forcing spin $i$ to be positive (perhaps through a magnetic field) and asking how this constraint affects spin $j$. Can you come up with an experiment which would detect a 3 point correlator $<\\sigma_i\\sigma_j\\sigma_k>$? What about higher order correlators?"
      ],
      "metadata": {
        "id": "B4GfHy5Ln5nT"
      }
    },
    {
      "cell_type": "code",
      "source": [],
      "metadata": {
        "id": "4pp63q21n8CB"
      },
      "execution_count": null,
      "outputs": []
    },
    {
      "cell_type": "markdown",
      "source": [
        "#### 1.5 (Bonus **Not Covered In Lecture*)  What happens at criticality?\n",
        "We discussed in detail the behaviour of our models above and below the critical parameter (generally temperature). But this leaves out the highly intriguing quesiton of what is the behaviour of the system *exactly* at criticality? I.e $T=T_c$. How do you expect $<\\sigma_i>,<\\sigma_i\\sigma_j>,...$ and so on to behave?<br>\n",
        "$\\textbf{Note}$: We have not provided you with the tools to answer this so we expect the answers to be based purely off of guesses and physical intuition"
      ],
      "metadata": {
        "id": "omzo7iqQn8OE"
      }
    },
    {
      "cell_type": "code",
      "source": [],
      "metadata": {
        "id": "D8QRTomSoAHV"
      },
      "execution_count": null,
      "outputs": []
    },
    {
      "cell_type": "markdown",
      "source": [
        "## 2. Numerical Exercises"
      ],
      "metadata": {
        "id": "MwZXbhf2oAUO"
      }
    },
    {
      "cell_type": "markdown",
      "source": [
        "#### 2.1 The Need for Monte Carlo (2D Ising)\n",
        "In this problem we will try to simulate the Ising model naively (for small system sizes) and demonstrate the need for a more efficient and effective method of doing so:<br>\n",
        "(a) Start by creating an array with all possible states for an $N\\times N$ Ising model (PBC) and an energy function on the states. <br>\n",
        "(b) Define the parition function as a Python function which accepts the temperature and evaluates it directly by summing over all states.<br>\n",
        "(c) Define a function to calculate the mean magnetization from the partition function using the formalism developed last week, at various points above and below the analytically deduced transition temperature.<br>\n",
        "$\\textbf{Note:}$ Do not expect this to look very nice for the small lattice sizes we will consider.\n",
        "<br>\n",
        "(d) Plot the mean magnetization for lattice sizes $2\\times 2,3\\times 3,4\\times 4$ ($5\\times 5$ if you are feeling bold) and record the time for the computation in each case. Appropriately fit the computation time to the lattice size and estimate the time it would take for lattices of size $10\\times 10$ and finally $N_0\\times N_0$ ($N_0$ is Avagadro's number) and conclude that this approach would be disasterous to continue."
      ],
      "metadata": {
        "id": "SEplCETNoCmF"
      }
    },
    {
      "cell_type": "code",
      "source": [],
      "metadata": {
        "id": "K_ty5oTLoHVZ"
      },
      "execution_count": null,
      "outputs": []
    },
    {
      "cell_type": "markdown",
      "source": [
        "#### 2.2 Diagnosing Phase Transitions in a Generalized Ising Model Using Transfer Matrices\n",
        "In this problem we will numerically solve a generic 1D spin model, naively hoping to see a transition, using the formalism of transfer matrices as described in lecture. Consider the degree of freedom $\\sigma_i\\in\\{-1,1\\}$ living on each site subject to a Hamiltonian:\n",
        "$$H=-\\sum_{<ij>}J(i)\\sigma_i\\sigma_j+\\sum_{i}h(i)\\sigma_i$$\n",
        "Where $J(i)=J\\left(1+\\frac{(-1)^i}{2}\\right)$ and $h(i)=\\cos^2(i)$<br>\n",
        "(a) Create an N site python array which will serve as the lattice and a connectivity graph which declares the connections between neighbouring sites (use periodic boundary conditions).<br>\n",
        "(b) Define the transfer matrix for each bond.<br>\n",
        "(c) Calculate the partition function $Z$ as the trace of the product of the transfer matrices for each bond<br>\n",
        "(d) Plot the magnetisation of an arbitrary single spin as a function of temperature for large system sizes.<br>\n",
        "(e) What information does this give you about phases of lattice models in 1D? Is there a way to get around this? Hint: Play around with the functions $J(i),h(i),$ does any combination produce a transition?<br>\n",
        "(f) In fact, the Mermin-Wagner-Hohenberg Theorem claims that there cannot be any ordered phase in 1 or 2 dimensions, but we know of ordered phases like 2D crystals. Can you explain what is going on here? (You may treat this part as a googling adventure to synthesize a good explanation)"
      ],
      "metadata": {
        "id": "w9Rd387OoHu5"
      }
    },
    {
      "cell_type": "code",
      "source": [],
      "metadata": {
        "id": "SZrx4wGgoLXv"
      },
      "execution_count": null,
      "outputs": []
    },
    {
      "cell_type": "markdown",
      "source": [
        "## 3. Analytical Exercises"
      ],
      "metadata": {
        "id": "w_B4xLlIoLv-"
      }
    },
    {
      "cell_type": "markdown",
      "source": [
        "#### 3.1 Symmetry Breaking\n",
        "(a) Consider again the Model from a previous question (1.2) where we have a 2D lattice with the degree of freedom $\\vec{x}_i\\in {S^1}$ a 2D unit vector living on each site. The energy function (Hamiltonian) given by\n",
        "$$H=-J\\sum_{<ij>}\\vec{x}_i\\cdot\\vec{x}_j$$\n",
        "You may have observed that one of the symmetries of this model is a reflection symmetry, flipping all the vectors about any axis, what kind of term can you add to the Hamiltonian which would break this symmetry? That is, assign a preferred orientation to the spins? <br><br>\n",
        "(b) It would be amiss to leave a discussion of symmetry breaking without discussing the sombrero potential. The following contains ideas with applications in far ranging subfields of physics, from the Higgs mechanism to superconductors to lattice gauge theories.<br>\n",
        "Consider the family of functions $f(u):R^2\\to R$ given by $f(u,\\vec{x})=u|\\vec{x}|^2+|\\vec{x}|^4$.<br>\n",
        "$\\;\\;\\;$(i) What are the symmetries $(g:R^2\\to R^2$) which leave $f$ invariant?<br>\n",
        "$\\;\\;\\;$(ii) Find the set of solutions $\\{\\vec{x}\\in R^2:f(\\vec{x})=0\\}$ for arbitrary $u$.<br>\n",
        "$\\;\\;\\;$(iii) Consider the symmetries found in $(i)$, are there two regimes of $u$ where they *act* differently on the set of solutions?"
      ],
      "metadata": {
        "id": "bpkCHEIvoOjq"
      }
    },
    {
      "cell_type": "code",
      "source": [],
      "metadata": {
        "id": "3HvsMC6JoRjN"
      },
      "execution_count": null,
      "outputs": []
    },
    {
      "cell_type": "markdown",
      "source": [
        "#### 3.2 Transfer Matrices and Correlation Functions\n",
        "In lecture, and in one of the previous problems, we saw how to write the partition function of the 1D Ising model as $\\text{Tr}[t^n]$ where $t$, the transfer matrix is given by:\n",
        "$$t=\\begin{pmatrix}a&b\\\\c&d\\end{pmatrix}$$\n",
        "In this exercise we will compute the 1 and 2 point correlators $<\\sigma_i>,<\\sigma_i\\sigma_j>$ using this formalism.<br>\n",
        "(a) Find a,b,c,d from the energetics of each bond.<br>\n",
        "(b) Compute $<\\sigma_i>$ by writing it as $<\\sigma_j>=\\frac{1}{Z}\\sum_i\\;e^{-\\beta H_i}\\sigma_j$ ($i$ is a sum over states, $H_i$ is the energy of the $i^{th}$ state and $j$ is an index on the lattice). You will have to encode the action of $\\sigma_i$ as a matrix.<br>\n",
        "(c) Compute $<\\sigma_i\\sigma_j>$ via a similar method."
      ],
      "metadata": {
        "id": "ogpT2vD3oR9_"
      }
    },
    {
      "cell_type": "code",
      "source": [],
      "metadata": {
        "id": "pGbG64qZoURC"
      },
      "execution_count": null,
      "outputs": []
    },
    {
      "cell_type": "markdown",
      "source": [
        "#### 3.3 $\\Phi$ Field Theory $\\to$Ising\n",
        "In this problem we will invert the process of going from short distance physics to long distance physics by considering the $\\Phi^4$ theory, introduced at the end of lecture, on a lattice and observe that it generically reproduces the Ising model.<br>\n",
        "Recall that the Hamiltonian for the free $\\Phi$ field model looks like:\n",
        "$$H=\\int d^2x \\left[\\frac{1}{2}(\\partial_x\\Phi)^2+\\frac{1}{2}(\\partial_y\\Phi)^2+\\frac{m^2}{2}|\\Phi|^2+\\frac{\\lambda}{4!}\\Phi^4\\right]$$\n",
        "Put this theory on a square lattice by letting $\\phi_{i,j}=\\Phi(i,j)$, that is the field evaluated on the grid point, and $\\int d^2x\\to\\sum_i\\sum_j$ and via necessary approximations along the way bring the Hamiltonian into the form of an Ising model.<br>\n",
        "Hint: Let $\\sigma_{i,j}=\\sqrt{2k}\\phi_{i,j}, m^2=\\frac{1-2\\lambda}{k}, \\lambda_0=\\frac{6\\lambda}{k^2}$. The variable $\\sigma_{i,j}$ will end up being the Ising spin on each site, thus we will have to impose the constraint $\\sigma_{i,j}^2=1$."
      ],
      "metadata": {
        "id": "kIMpTQbxoUew"
      }
    },
    {
      "cell_type": "code",
      "source": [],
      "metadata": {
        "id": "Tc86H3eCoYV6"
      },
      "execution_count": null,
      "outputs": []
    },
    {
      "cell_type": "code",
      "source": [],
      "metadata": {
        "id": "Hy27XbrPRkcT"
      },
      "execution_count": null,
      "outputs": []
    },
    {
      "cell_type": "markdown",
      "source": [
        "## 4. Consolidation of the Week"
      ],
      "metadata": {
        "id": "c8nwcp6toYng"
      }
    },
    {
      "cell_type": "markdown",
      "source": [
        "Please use the space below to tell us how this week of learning has been for you, what has been especially interesting and what was challenging. Also mention whether the problems and lecture were useful and how you are generally feeling in the course so far and if there are any changes you would like to see."
      ],
      "metadata": {
        "id": "4-ePrvTtoa9R"
      }
    },
    {
      "cell_type": "code",
      "source": [],
      "metadata": {
        "id": "B9natCWcodE3"
      },
      "execution_count": null,
      "outputs": []
    }
  ]
}